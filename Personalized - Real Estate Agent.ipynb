{
 "cells": [
  {
   "cell_type": "markdown",
   "id": "a108af04",
   "metadata": {},
   "source": [
    "This is a starter notebook for the project, you'll have to import the libraries you'll need, you can find a list of the ones available in this workspace in the requirements.txt file in this workspace. "
   ]
  },
  {
   "cell_type": "code",
   "execution_count": 88,
   "id": "56bee694",
   "metadata": {},
   "outputs": [
    {
     "name": "stdout",
     "output_type": "stream",
     "text": [
      "Requirement already satisfied: pandas in /home/student/.local/lib/python3.10/site-packages (2.2.3)\n",
      "Requirement already satisfied: numpy>=1.22.4 in /opt/conda/lib/python3.10/site-packages (from pandas) (1.24.3)\n",
      "Requirement already satisfied: python-dateutil>=2.8.2 in /opt/conda/lib/python3.10/site-packages (from pandas) (2.9.0.post0)\n",
      "Requirement already satisfied: tzdata>=2022.7 in /home/student/.local/lib/python3.10/site-packages (from pandas) (2025.2)\n",
      "Requirement already satisfied: pytz>=2020.1 in /opt/conda/lib/python3.10/site-packages (from pandas) (2022.7)\n",
      "Requirement already satisfied: six>=1.5 in /opt/conda/lib/python3.10/site-packages (from python-dateutil>=2.8.2->pandas) (1.16.0)\n",
      "Defaulting to user installation because normal site-packages is not writeable\n",
      "Collecting openai==0.28\n",
      "  Using cached openai-0.28.0-py3-none-any.whl (76 kB)\n",
      "Requirement already satisfied: requests>=2.20 in /opt/conda/lib/python3.10/site-packages (from openai==0.28) (2.29.0)\n",
      "Requirement already satisfied: aiohttp in /opt/conda/lib/python3.10/site-packages (from openai==0.28) (3.9.5)\n",
      "Requirement already satisfied: tqdm in /opt/conda/lib/python3.10/site-packages (from openai==0.28) (4.65.0)\n",
      "Requirement already satisfied: certifi>=2017.4.17 in /opt/conda/lib/python3.10/site-packages (from requests>=2.20->openai==0.28) (2023.5.7)\n",
      "Requirement already satisfied: urllib3<1.27,>=1.21.1 in /opt/conda/lib/python3.10/site-packages (from requests>=2.20->openai==0.28) (1.26.15)\n",
      "Requirement already satisfied: charset-normalizer<4,>=2 in /opt/conda/lib/python3.10/site-packages (from requests>=2.20->openai==0.28) (2.0.4)\n",
      "Requirement already satisfied: idna<4,>=2.5 in /opt/conda/lib/python3.10/site-packages (from requests>=2.20->openai==0.28) (3.4)\n",
      "Requirement already satisfied: multidict<7.0,>=4.5 in /opt/conda/lib/python3.10/site-packages (from aiohttp->openai==0.28) (6.0.5)\n",
      "Requirement already satisfied: aiosignal>=1.1.2 in /opt/conda/lib/python3.10/site-packages (from aiohttp->openai==0.28) (1.3.1)\n",
      "Requirement already satisfied: frozenlist>=1.1.1 in /opt/conda/lib/python3.10/site-packages (from aiohttp->openai==0.28) (1.4.1)\n",
      "Requirement already satisfied: yarl<2.0,>=1.0 in /opt/conda/lib/python3.10/site-packages (from aiohttp->openai==0.28) (1.9.4)\n",
      "Requirement already satisfied: attrs>=17.3.0 in /opt/conda/lib/python3.10/site-packages (from aiohttp->openai==0.28) (23.1.0)\n",
      "Requirement already satisfied: async-timeout<5.0,>=4.0 in /opt/conda/lib/python3.10/site-packages (from aiohttp->openai==0.28) (4.0.3)\n",
      "Installing collected packages: openai\n",
      "  Attempting uninstall: openai\n",
      "    Found existing installation: openai 0.28.1\n",
      "    Uninstalling openai-0.28.1:\n",
      "      Successfully uninstalled openai-0.28.1\n",
      "\u001b[33m  WARNING: The script openai is installed in '/home/student/.local/bin' which is not on PATH.\n",
      "  Consider adding this directory to PATH or, if you prefer to suppress this warning, use --no-warn-script-location.\u001b[0m\u001b[33m\n",
      "\u001b[0m\u001b[31mERROR: pip's dependency resolver does not currently take into account all the packages that are installed. This behaviour is the source of the following dependency conflicts.\n",
      "langchain-openai 0.3.12 requires langchain-core<1.0.0,>=0.3.49, but you have langchain-core 0.1.53 which is incompatible.\n",
      "langchain-openai 0.3.12 requires openai<2.0.0,>=1.68.2, but you have openai 0.28.0 which is incompatible.\u001b[0m\u001b[31m\n",
      "\u001b[0mSuccessfully installed openai-0.28.0\n",
      "Defaulting to user installation because normal site-packages is not writeable\n",
      "Requirement already satisfied: langchain in /home/student/.local/lib/python3.10/site-packages (0.1.9)\n",
      "Requirement already satisfied: aiohttp<4.0.0,>=3.8.3 in /opt/conda/lib/python3.10/site-packages (from langchain) (3.9.5)\n",
      "Requirement already satisfied: langchain-core<0.2,>=0.1.26 in /home/student/.local/lib/python3.10/site-packages (from langchain) (0.1.53)\n",
      "Requirement already satisfied: numpy<2,>=1 in /opt/conda/lib/python3.10/site-packages (from langchain) (1.24.3)\n",
      "Requirement already satisfied: jsonpatch<2.0,>=1.33 in /opt/conda/lib/python3.10/site-packages (from langchain) (1.33)\n",
      "Requirement already satisfied: tenacity<9.0.0,>=8.1.0 in /opt/conda/lib/python3.10/site-packages (from langchain) (8.3.0)\n",
      "Requirement already satisfied: pydantic<3,>=1 in /home/student/.local/lib/python3.10/site-packages (from langchain) (2.11.1)\n",
      "Requirement already satisfied: dataclasses-json<0.7,>=0.5.7 in /opt/conda/lib/python3.10/site-packages (from langchain) (0.6.6)\n",
      "Requirement already satisfied: PyYAML>=5.3 in /opt/conda/lib/python3.10/site-packages (from langchain) (6.0)\n",
      "Requirement already satisfied: SQLAlchemy<3,>=1.4 in /opt/conda/lib/python3.10/site-packages (from langchain) (2.0.30)\n",
      "Requirement already satisfied: langsmith<0.2.0,>=0.1.0 in /home/student/.local/lib/python3.10/site-packages (from langchain) (0.1.147)\n",
      "Requirement already satisfied: langchain-community<0.1,>=0.0.21 in /home/student/.local/lib/python3.10/site-packages (from langchain) (0.0.38)\n",
      "Requirement already satisfied: async-timeout<5.0.0,>=4.0.0 in /opt/conda/lib/python3.10/site-packages (from langchain) (4.0.3)\n",
      "Requirement already satisfied: requests<3,>=2 in /opt/conda/lib/python3.10/site-packages (from langchain) (2.29.0)\n",
      "Requirement already satisfied: aiosignal>=1.1.2 in /opt/conda/lib/python3.10/site-packages (from aiohttp<4.0.0,>=3.8.3->langchain) (1.3.1)\n",
      "Requirement already satisfied: frozenlist>=1.1.1 in /opt/conda/lib/python3.10/site-packages (from aiohttp<4.0.0,>=3.8.3->langchain) (1.4.1)\n",
      "Requirement already satisfied: yarl<2.0,>=1.0 in /opt/conda/lib/python3.10/site-packages (from aiohttp<4.0.0,>=3.8.3->langchain) (1.9.4)\n",
      "Requirement already satisfied: attrs>=17.3.0 in /opt/conda/lib/python3.10/site-packages (from aiohttp<4.0.0,>=3.8.3->langchain) (23.1.0)\n",
      "Requirement already satisfied: multidict<7.0,>=4.5 in /opt/conda/lib/python3.10/site-packages (from aiohttp<4.0.0,>=3.8.3->langchain) (6.0.5)\n",
      "Requirement already satisfied: typing-inspect<1,>=0.4.0 in /opt/conda/lib/python3.10/site-packages (from dataclasses-json<0.7,>=0.5.7->langchain) (0.9.0)\n",
      "Requirement already satisfied: marshmallow<4.0.0,>=3.18.0 in /opt/conda/lib/python3.10/site-packages (from dataclasses-json<0.7,>=0.5.7->langchain) (3.21.2)\n",
      "Requirement already satisfied: jsonpointer>=1.9 in /opt/conda/lib/python3.10/site-packages (from jsonpatch<2.0,>=1.33->langchain) (2.1)\n",
      "Requirement already satisfied: packaging<24.0,>=23.2 in /home/student/.local/lib/python3.10/site-packages (from langchain-core<0.2,>=0.1.26->langchain) (23.2)\n",
      "Requirement already satisfied: requests-toolbelt<2.0.0,>=1.0.0 in /home/student/.local/lib/python3.10/site-packages (from langsmith<0.2.0,>=0.1.0->langchain) (1.0.0)\n",
      "Requirement already satisfied: orjson<4.0.0,>=3.9.14 in /home/student/.local/lib/python3.10/site-packages (from langsmith<0.2.0,>=0.1.0->langchain) (3.10.16)\n",
      "Requirement already satisfied: httpx<1,>=0.23.0 in /home/student/.local/lib/python3.10/site-packages (from langsmith<0.2.0,>=0.1.0->langchain) (0.28.1)\n",
      "Requirement already satisfied: typing-inspection>=0.4.0 in /home/student/.local/lib/python3.10/site-packages (from pydantic<3,>=1->langchain) (0.4.0)\n",
      "Requirement already satisfied: typing-extensions>=4.12.2 in /home/student/.local/lib/python3.10/site-packages (from pydantic<3,>=1->langchain) (4.13.0)\n",
      "Requirement already satisfied: pydantic-core==2.33.0 in /home/student/.local/lib/python3.10/site-packages (from pydantic<3,>=1->langchain) (2.33.0)\n",
      "Requirement already satisfied: annotated-types>=0.6.0 in /home/student/.local/lib/python3.10/site-packages (from pydantic<3,>=1->langchain) (0.7.0)\n",
      "Requirement already satisfied: idna<4,>=2.5 in /opt/conda/lib/python3.10/site-packages (from requests<3,>=2->langchain) (3.4)\n",
      "Requirement already satisfied: certifi>=2017.4.17 in /opt/conda/lib/python3.10/site-packages (from requests<3,>=2->langchain) (2023.5.7)\n",
      "Requirement already satisfied: urllib3<1.27,>=1.21.1 in /opt/conda/lib/python3.10/site-packages (from requests<3,>=2->langchain) (1.26.15)\n",
      "Requirement already satisfied: charset-normalizer<4,>=2 in /opt/conda/lib/python3.10/site-packages (from requests<3,>=2->langchain) (2.0.4)\n",
      "Requirement already satisfied: greenlet!=0.4.17 in /opt/conda/lib/python3.10/site-packages (from SQLAlchemy<3,>=1.4->langchain) (3.0.3)\n"
     ]
    },
    {
     "name": "stdout",
     "output_type": "stream",
     "text": [
      "Requirement already satisfied: anyio in /opt/conda/lib/python3.10/site-packages (from httpx<1,>=0.23.0->langsmith<0.2.0,>=0.1.0->langchain) (3.7.1)\n",
      "Requirement already satisfied: httpcore==1.* in /home/student/.local/lib/python3.10/site-packages (from httpx<1,>=0.23.0->langsmith<0.2.0,>=0.1.0->langchain) (1.0.7)\n",
      "Requirement already satisfied: h11<0.15,>=0.13 in /opt/conda/lib/python3.10/site-packages (from httpcore==1.*->httpx<1,>=0.23.0->langsmith<0.2.0,>=0.1.0->langchain) (0.14.0)\n",
      "Requirement already satisfied: mypy-extensions>=0.3.0 in /opt/conda/lib/python3.10/site-packages (from typing-inspect<1,>=0.4.0->dataclasses-json<0.7,>=0.5.7->langchain) (1.0.0)\n",
      "Requirement already satisfied: sniffio>=1.1 in /opt/conda/lib/python3.10/site-packages (from anyio->httpx<1,>=0.23.0->langsmith<0.2.0,>=0.1.0->langchain) (1.3.1)\n",
      "Requirement already satisfied: exceptiongroup in /opt/conda/lib/python3.10/site-packages (from anyio->httpx<1,>=0.23.0->langsmith<0.2.0,>=0.1.0->langchain) (1.1.1)\n",
      "Defaulting to user installation because normal site-packages is not writeable\n",
      "Requirement already satisfied: langchain_core in /home/student/.local/lib/python3.10/site-packages (0.1.53)\n",
      "Requirement already satisfied: PyYAML>=5.3 in /opt/conda/lib/python3.10/site-packages (from langchain_core) (6.0)\n",
      "Requirement already satisfied: jsonpatch<2.0,>=1.33 in /opt/conda/lib/python3.10/site-packages (from langchain_core) (1.33)\n",
      "Requirement already satisfied: langsmith<0.2.0,>=0.1.0 in /home/student/.local/lib/python3.10/site-packages (from langchain_core) (0.1.147)\n",
      "Requirement already satisfied: packaging<24.0,>=23.2 in /home/student/.local/lib/python3.10/site-packages (from langchain_core) (23.2)\n",
      "Requirement already satisfied: tenacity<9.0.0,>=8.1.0 in /opt/conda/lib/python3.10/site-packages (from langchain_core) (8.3.0)\n",
      "Requirement already satisfied: pydantic<3,>=1 in /home/student/.local/lib/python3.10/site-packages (from langchain_core) (2.11.1)\n",
      "Requirement already satisfied: jsonpointer>=1.9 in /opt/conda/lib/python3.10/site-packages (from jsonpatch<2.0,>=1.33->langchain_core) (2.1)\n",
      "Requirement already satisfied: httpx<1,>=0.23.0 in /home/student/.local/lib/python3.10/site-packages (from langsmith<0.2.0,>=0.1.0->langchain_core) (0.28.1)\n",
      "Requirement already satisfied: orjson<4.0.0,>=3.9.14 in /home/student/.local/lib/python3.10/site-packages (from langsmith<0.2.0,>=0.1.0->langchain_core) (3.10.16)\n",
      "Requirement already satisfied: requests<3,>=2 in /opt/conda/lib/python3.10/site-packages (from langsmith<0.2.0,>=0.1.0->langchain_core) (2.29.0)\n",
      "Requirement already satisfied: requests-toolbelt<2.0.0,>=1.0.0 in /home/student/.local/lib/python3.10/site-packages (from langsmith<0.2.0,>=0.1.0->langchain_core) (1.0.0)\n",
      "Requirement already satisfied: pydantic-core==2.33.0 in /home/student/.local/lib/python3.10/site-packages (from pydantic<3,>=1->langchain_core) (2.33.0)\n",
      "Requirement already satisfied: typing-inspection>=0.4.0 in /home/student/.local/lib/python3.10/site-packages (from pydantic<3,>=1->langchain_core) (0.4.0)\n",
      "Requirement already satisfied: annotated-types>=0.6.0 in /home/student/.local/lib/python3.10/site-packages (from pydantic<3,>=1->langchain_core) (0.7.0)\n",
      "Requirement already satisfied: typing-extensions>=4.12.2 in /home/student/.local/lib/python3.10/site-packages (from pydantic<3,>=1->langchain_core) (4.13.0)\n",
      "Requirement already satisfied: httpcore==1.* in /home/student/.local/lib/python3.10/site-packages (from httpx<1,>=0.23.0->langsmith<0.2.0,>=0.1.0->langchain_core) (1.0.7)\n",
      "Requirement already satisfied: idna in /opt/conda/lib/python3.10/site-packages (from httpx<1,>=0.23.0->langsmith<0.2.0,>=0.1.0->langchain_core) (3.4)\n",
      "Requirement already satisfied: certifi in /opt/conda/lib/python3.10/site-packages (from httpx<1,>=0.23.0->langsmith<0.2.0,>=0.1.0->langchain_core) (2023.5.7)\n",
      "Requirement already satisfied: anyio in /opt/conda/lib/python3.10/site-packages (from httpx<1,>=0.23.0->langsmith<0.2.0,>=0.1.0->langchain_core) (3.7.1)\n",
      "Requirement already satisfied: h11<0.15,>=0.13 in /opt/conda/lib/python3.10/site-packages (from httpcore==1.*->httpx<1,>=0.23.0->langsmith<0.2.0,>=0.1.0->langchain_core) (0.14.0)\n",
      "Requirement already satisfied: urllib3<1.27,>=1.21.1 in /opt/conda/lib/python3.10/site-packages (from requests<3,>=2->langsmith<0.2.0,>=0.1.0->langchain_core) (1.26.15)\n",
      "Requirement already satisfied: charset-normalizer<4,>=2 in /opt/conda/lib/python3.10/site-packages (from requests<3,>=2->langsmith<0.2.0,>=0.1.0->langchain_core) (2.0.4)\n",
      "Requirement already satisfied: sniffio>=1.1 in /opt/conda/lib/python3.10/site-packages (from anyio->httpx<1,>=0.23.0->langsmith<0.2.0,>=0.1.0->langchain_core) (1.3.1)\n",
      "Requirement already satisfied: exceptiongroup in /opt/conda/lib/python3.10/site-packages (from anyio->httpx<1,>=0.23.0->langsmith<0.2.0,>=0.1.0->langchain_core) (1.1.1)\n",
      "Defaulting to user installation because normal site-packages is not writeable\n",
      "Requirement already satisfied: langchain_openai in /home/student/.local/lib/python3.10/site-packages (0.3.12)\n",
      "Collecting openai<2.0.0,>=1.68.2\n",
      "  Using cached openai-1.70.0-py3-none-any.whl (599 kB)\n",
      "Collecting langchain-core<1.0.0,>=0.3.49\n",
      "  Using cached langchain_core-0.3.49-py3-none-any.whl (420 kB)\n",
      "Requirement already satisfied: tiktoken<1,>=0.7 in /home/student/.local/lib/python3.10/site-packages (from langchain_openai) (0.9.0)\n",
      "Requirement already satisfied: PyYAML>=5.3 in /opt/conda/lib/python3.10/site-packages (from langchain-core<1.0.0,>=0.3.49->langchain_openai) (6.0)\n",
      "Requirement already satisfied: packaging<25,>=23.2 in /home/student/.local/lib/python3.10/site-packages (from langchain-core<1.0.0,>=0.3.49->langchain_openai) (23.2)\n",
      "Requirement already satisfied: typing-extensions>=4.7 in /home/student/.local/lib/python3.10/site-packages (from langchain-core<1.0.0,>=0.3.49->langchain_openai) (4.13.0)\n",
      "Requirement already satisfied: pydantic<3.0.0,>=2.5.2 in /home/student/.local/lib/python3.10/site-packages (from langchain-core<1.0.0,>=0.3.49->langchain_openai) (2.11.1)\n",
      "Requirement already satisfied: langsmith<0.4,>=0.1.125 in /home/student/.local/lib/python3.10/site-packages (from langchain-core<1.0.0,>=0.3.49->langchain_openai) (0.1.147)\n",
      "Requirement already satisfied: jsonpatch<2.0,>=1.33 in /opt/conda/lib/python3.10/site-packages (from langchain-core<1.0.0,>=0.3.49->langchain_openai) (1.33)\n",
      "Requirement already satisfied: tenacity!=8.4.0,<10.0.0,>=8.1.0 in /opt/conda/lib/python3.10/site-packages (from langchain-core<1.0.0,>=0.3.49->langchain_openai) (8.3.0)\n",
      "Requirement already satisfied: anyio<5,>=3.5.0 in /opt/conda/lib/python3.10/site-packages (from openai<2.0.0,>=1.68.2->langchain_openai) (3.7.1)\n",
      "Requirement already satisfied: sniffio in /opt/conda/lib/python3.10/site-packages (from openai<2.0.0,>=1.68.2->langchain_openai) (1.3.1)\n",
      "Requirement already satisfied: distro<2,>=1.7.0 in /home/student/.local/lib/python3.10/site-packages (from openai<2.0.0,>=1.68.2->langchain_openai) (1.9.0)\n",
      "Requirement already satisfied: jiter<1,>=0.4.0 in /home/student/.local/lib/python3.10/site-packages (from openai<2.0.0,>=1.68.2->langchain_openai) (0.9.0)\n",
      "Requirement already satisfied: httpx<1,>=0.23.0 in /home/student/.local/lib/python3.10/site-packages (from openai<2.0.0,>=1.68.2->langchain_openai) (0.28.1)\n",
      "Requirement already satisfied: tqdm>4 in /opt/conda/lib/python3.10/site-packages (from openai<2.0.0,>=1.68.2->langchain_openai) (4.65.0)\n",
      "Requirement already satisfied: requests>=2.26.0 in /opt/conda/lib/python3.10/site-packages (from tiktoken<1,>=0.7->langchain_openai) (2.29.0)\n",
      "Requirement already satisfied: regex>=2022.1.18 in /opt/conda/lib/python3.10/site-packages (from tiktoken<1,>=0.7->langchain_openai) (2024.5.15)\n",
      "Requirement already satisfied: exceptiongroup in /opt/conda/lib/python3.10/site-packages (from anyio<5,>=3.5.0->openai<2.0.0,>=1.68.2->langchain_openai) (1.1.1)\n",
      "Requirement already satisfied: idna>=2.8 in /opt/conda/lib/python3.10/site-packages (from anyio<5,>=3.5.0->openai<2.0.0,>=1.68.2->langchain_openai) (3.4)\n",
      "Requirement already satisfied: httpcore==1.* in /home/student/.local/lib/python3.10/site-packages (from httpx<1,>=0.23.0->openai<2.0.0,>=1.68.2->langchain_openai) (1.0.7)\n",
      "Requirement already satisfied: certifi in /opt/conda/lib/python3.10/site-packages (from httpx<1,>=0.23.0->openai<2.0.0,>=1.68.2->langchain_openai) (2023.5.7)\n",
      "Requirement already satisfied: h11<0.15,>=0.13 in /opt/conda/lib/python3.10/site-packages (from httpcore==1.*->httpx<1,>=0.23.0->openai<2.0.0,>=1.68.2->langchain_openai) (0.14.0)\n",
      "Requirement already satisfied: jsonpointer>=1.9 in /opt/conda/lib/python3.10/site-packages (from jsonpatch<2.0,>=1.33->langchain-core<1.0.0,>=0.3.49->langchain_openai) (2.1)\n"
     ]
    },
    {
     "name": "stdout",
     "output_type": "stream",
     "text": [
      "Requirement already satisfied: orjson<4.0.0,>=3.9.14 in /home/student/.local/lib/python3.10/site-packages (from langsmith<0.4,>=0.1.125->langchain-core<1.0.0,>=0.3.49->langchain_openai) (3.10.16)\n",
      "Requirement already satisfied: requests-toolbelt<2.0.0,>=1.0.0 in /home/student/.local/lib/python3.10/site-packages (from langsmith<0.4,>=0.1.125->langchain-core<1.0.0,>=0.3.49->langchain_openai) (1.0.0)\n",
      "Requirement already satisfied: pydantic-core==2.33.0 in /home/student/.local/lib/python3.10/site-packages (from pydantic<3.0.0,>=2.5.2->langchain-core<1.0.0,>=0.3.49->langchain_openai) (2.33.0)\n",
      "Requirement already satisfied: annotated-types>=0.6.0 in /home/student/.local/lib/python3.10/site-packages (from pydantic<3.0.0,>=2.5.2->langchain-core<1.0.0,>=0.3.49->langchain_openai) (0.7.0)\n",
      "Requirement already satisfied: typing-inspection>=0.4.0 in /home/student/.local/lib/python3.10/site-packages (from pydantic<3.0.0,>=2.5.2->langchain-core<1.0.0,>=0.3.49->langchain_openai) (0.4.0)\n",
      "Requirement already satisfied: urllib3<1.27,>=1.21.1 in /opt/conda/lib/python3.10/site-packages (from requests>=2.26.0->tiktoken<1,>=0.7->langchain_openai) (1.26.15)\n",
      "Requirement already satisfied: charset-normalizer<4,>=2 in /opt/conda/lib/python3.10/site-packages (from requests>=2.26.0->tiktoken<1,>=0.7->langchain_openai) (2.0.4)\n",
      "Installing collected packages: openai, langchain-core\n",
      "  Attempting uninstall: openai\n",
      "    Found existing installation: openai 0.28.0\n",
      "    Uninstalling openai-0.28.0:\n",
      "      Successfully uninstalled openai-0.28.0\n",
      "\u001b[33m  WARNING: The script openai is installed in '/home/student/.local/bin' which is not on PATH.\n",
      "  Consider adding this directory to PATH or, if you prefer to suppress this warning, use --no-warn-script-location.\u001b[0m\u001b[33m\n",
      "\u001b[0m  Attempting uninstall: langchain-core\n",
      "    Found existing installation: langchain-core 0.1.53\n",
      "    Uninstalling langchain-core-0.1.53:\n",
      "      Successfully uninstalled langchain-core-0.1.53\n",
      "\u001b[31mERROR: pip's dependency resolver does not currently take into account all the packages that are installed. This behaviour is the source of the following dependency conflicts.\n",
      "langchain 0.1.9 requires langchain-core<0.2,>=0.1.26, but you have langchain-core 0.3.49 which is incompatible.\n",
      "langchain-experimental 0.0.52 requires langchain-core<0.2.0,>=0.1.24, but you have langchain-core 0.3.49 which is incompatible.\n",
      "langchain-community 0.0.38 requires langchain-core<0.2.0,>=0.1.52, but you have langchain-core 0.3.49 which is incompatible.\u001b[0m\u001b[31m\n",
      "\u001b[0mSuccessfully installed langchain-core-0.3.49 openai-1.70.0\n",
      "Defaulting to user installation because normal site-packages is not writeable\n",
      "Requirement already satisfied: lancedb in /home/student/.local/lib/python3.10/site-packages (0.21.2)\n",
      "Requirement already satisfied: overrides>=0.7 in /opt/conda/lib/python3.10/site-packages (from lancedb) (7.7.0)\n",
      "Requirement already satisfied: packaging in /home/student/.local/lib/python3.10/site-packages (from lancedb) (23.2)\n",
      "Requirement already satisfied: deprecation in /home/student/.local/lib/python3.10/site-packages (from lancedb) (2.1.0)\n",
      "Requirement already satisfied: tqdm>=4.27.0 in /opt/conda/lib/python3.10/site-packages (from lancedb) (4.65.0)\n",
      "Requirement already satisfied: pyarrow>=14 in /home/student/.local/lib/python3.10/site-packages (from lancedb) (19.0.1)\n",
      "Requirement already satisfied: pydantic>=1.10 in /home/student/.local/lib/python3.10/site-packages (from lancedb) (2.11.1)\n",
      "Requirement already satisfied: typing-extensions>=4.12.2 in /home/student/.local/lib/python3.10/site-packages (from pydantic>=1.10->lancedb) (4.13.0)\n",
      "Requirement already satisfied: typing-inspection>=0.4.0 in /home/student/.local/lib/python3.10/site-packages (from pydantic>=1.10->lancedb) (0.4.0)\n",
      "Requirement already satisfied: pydantic-core==2.33.0 in /home/student/.local/lib/python3.10/site-packages (from pydantic>=1.10->lancedb) (2.33.0)\n",
      "Requirement already satisfied: annotated-types>=0.6.0 in /home/student/.local/lib/python3.10/site-packages (from pydantic>=1.10->lancedb) (0.7.0)\n",
      "Defaulting to user installation because normal site-packages is not writeable\n",
      "Requirement already satisfied: diffusers in /home/student/.local/lib/python3.10/site-packages (0.26.3)\n",
      "Requirement already satisfied: huggingface-hub>=0.20.2 in /opt/conda/lib/python3.10/site-packages (from diffusers) (0.23.0)\n",
      "Requirement already satisfied: filelock in /opt/conda/lib/python3.10/site-packages (from diffusers) (3.9.0)\n",
      "Requirement already satisfied: importlib-metadata in /home/student/.local/lib/python3.10/site-packages (from diffusers) (8.6.1)\n",
      "Requirement already satisfied: safetensors>=0.3.1 in /opt/conda/lib/python3.10/site-packages (from diffusers) (0.4.3)\n",
      "Requirement already satisfied: Pillow in /opt/conda/lib/python3.10/site-packages (from diffusers) (9.4.0)\n",
      "Requirement already satisfied: requests in /opt/conda/lib/python3.10/site-packages (from diffusers) (2.29.0)\n",
      "Requirement already satisfied: numpy in /opt/conda/lib/python3.10/site-packages (from diffusers) (1.24.3)\n",
      "Requirement already satisfied: regex!=2019.12.17 in /opt/conda/lib/python3.10/site-packages (from diffusers) (2024.5.15)\n",
      "Requirement already satisfied: pyyaml>=5.1 in /opt/conda/lib/python3.10/site-packages (from huggingface-hub>=0.20.2->diffusers) (6.0)\n",
      "Requirement already satisfied: fsspec>=2023.5.0 in /opt/conda/lib/python3.10/site-packages (from huggingface-hub>=0.20.2->diffusers) (2024.5.0)\n",
      "Requirement already satisfied: typing-extensions>=3.7.4.3 in /home/student/.local/lib/python3.10/site-packages (from huggingface-hub>=0.20.2->diffusers) (4.13.0)\n",
      "Requirement already satisfied: packaging>=20.9 in /home/student/.local/lib/python3.10/site-packages (from huggingface-hub>=0.20.2->diffusers) (23.2)\n",
      "Requirement already satisfied: tqdm>=4.42.1 in /opt/conda/lib/python3.10/site-packages (from huggingface-hub>=0.20.2->diffusers) (4.65.0)\n",
      "Requirement already satisfied: zipp>=3.20 in /home/student/.local/lib/python3.10/site-packages (from importlib-metadata->diffusers) (3.21.0)\n",
      "Requirement already satisfied: urllib3<1.27,>=1.21.1 in /opt/conda/lib/python3.10/site-packages (from requests->diffusers) (1.26.15)\n",
      "Requirement already satisfied: certifi>=2017.4.17 in /opt/conda/lib/python3.10/site-packages (from requests->diffusers) (2023.5.7)\n",
      "Requirement already satisfied: charset-normalizer<4,>=2 in /opt/conda/lib/python3.10/site-packages (from requests->diffusers) (2.0.4)\n",
      "Requirement already satisfied: idna<4,>=2.5 in /opt/conda/lib/python3.10/site-packages (from requests->diffusers) (3.4)\n"
     ]
    }
   ],
   "source": [
    "!pip install --user pandas\n",
    "# !pip install -q -r ./requirements.txt\n",
    "!pip install openai==0.28\n",
    "!pip install langchain\n",
    "!pip install langchain_core\n",
    "!pip install langchain_openai\n",
    "!pip install lancedb"
   ]
  },
  {
   "cell_type": "code",
   "execution_count": 85,
   "id": "6554fd4c",
   "metadata": {},
   "outputs": [],
   "source": [
    "import os\n",
    "os.environ[\"OPENAI_API_KEY\"] = \"PLACE YOUR API KEY\"\n",
    "os.environ[\"OPENAI_API_BASE\"] = \"https://openai.vocareum.com/v1\"\n",
    "\n",
    "from langchain.llms import OpenAI"
   ]
  },
  {
   "cell_type": "code",
   "execution_count": 119,
   "id": "3679f709",
   "metadata": {},
   "outputs": [],
   "source": [
    "import os\n",
    "import openai\n",
    "import json\n",
    "import chromadb\n",
    "\n",
    "import shutil\n",
    "from typing import List\n",
    "from langchain.chat_models import ChatOpenAI\n",
    "from langchain.schema import SystemMessage, HumanMessage\n",
    "from pydantic import BaseModel, Field\n",
    "from langchain.embeddings import OpenAIEmbeddings\n",
    "from langchain.vectorstores import Chroma, lancedb\n",
    "from langchain.llms import OpenAI\n",
    "from langchain.prompts import PromptTemplate\n",
    "from langchain.prompts import ChatPromptTemplate\n",
    "from langchain.vectorstores.utils import filter_complex_metadata\n",
    "\n",
    "from langchain.schema import Document\n",
    "from langchain.text_splitter import RecursiveCharacterTextSplitter\n"
   ]
  },
  {
   "cell_type": "code",
   "execution_count": 120,
   "id": "72a94a2a",
   "metadata": {},
   "outputs": [],
   "source": [
    "from bs4 import BeautifulSoup"
   ]
  },
  {
   "cell_type": "markdown",
   "id": "2d1b5d65",
   "metadata": {},
   "source": [
    "# Generating Real Estate Listings - LangChain"
   ]
  },
  {
   "cell_type": "code",
   "execution_count": 74,
   "id": "fb2d9c6c",
   "metadata": {},
   "outputs": [],
   "source": [
    "from langchain.llms import OpenAI\n",
    "\n",
    "model_name = 'gpt-3.5-turbo'\n",
    "llm = OpenAI(model_name=model_name, temperature=0)\n",
    "\n",
    "instruction_system_prompt = \"\"\"\n",
    "You are an expert real estate agent in California in the USA.\n",
    "\n",
    "    Generate at least 20 real estate listings. Utilize your imagination to generate listings.\n",
    "    Ensure to include real listings as well.\n",
    "    Distribute listings across the 5 California boroughs.\n",
    "    The listings must be in the JSON array of dictionaries with each item in the format as shown below:\n",
    "\n",
    "\"\"\"\n",
    "\n",
    "sample = \"\"\"\n",
    "Neighborhood: Green Oaks\n",
    "Price: $800,000\n",
    "Bedrooms: 3\n",
    "Bathrooms: 2\n",
    "House Size: 2,000 sqft\n",
    "Description: Welcome to this eco-friendly oasis nestled in the heart of Green Oaks. This charming 3-bedroom, 2-bathroom home boasts energy-efficient features such as solar panels and a well-insulated structure. Natural light floods the living spaces, highlighting the beautiful hardwood floors and eco-conscious finishes. The open-concept kitchen and dining area lead to a spacious backyard with a vegetable garden, perfect for the eco-conscious family. Embrace sustainable living without compromising on style in this Green Oaks gem.\n",
    "Neighborhood Description: Green Oaks is a close-knit, environmentally-conscious community with access to organic grocery stores, community gardens, and bike paths. Take a stroll through the nearby Green Oaks Park or grab a cup of coffee at the cozy Green Bean Cafe. With easy access to public transportation and bike lanes, commuting is a breeze.\n",
    "\"\"\"\n"
   ]
  },
  {
   "cell_type": "code",
   "execution_count": 75,
   "id": "84048e32",
   "metadata": {},
   "outputs": [],
   "source": [
    "class RealEstateListing(BaseModel):\n",
    "    \"\"\"\n",
    "    A real estate listing.\n",
    "    \n",
    "    Attributes:\n",
    "    - neighborhood: str\n",
    "    - price: NonNegativeInt\n",
    "    - bedrooms: NonNegativeInt\n",
    "    - bathrooms: NonNegativeInt\n",
    "    - house_size: NonNegativeInt\n",
    "    - description: str\n",
    "    - neighborhood_description: str\n",
    "    \"\"\"\n",
    "    neighborhood: str = Field(description=\"The neighborhood where the property is located\")\n",
    "    price: int = Field(description=\"The price of the property in USD\")\n",
    "    bedrooms: int = Field(description=\"The number of bedrooms in the property\")\n",
    "    bathrooms: int = Field(description=\"The number of bathrooms in the property\")\n",
    "    house_size: int = Field(description=\"The size of the house in square feet\")\n",
    "    description: str = Field(description=\"A description of the property\")\n",
    "    neighborhood_description: str = Field(description=\"A description of the neighborhood.\")  \n",
    "\n",
    "class ListingCollection(BaseModel):\n",
    "    \"\"\"\n",
    "    A collection of real estate listings.\n",
    "    \n",
    "    Attributes:\n",
    "    - listings: List[RealEstateListing]\n",
    "    \"\"\"\n",
    "    listings: List[RealEstateListing] = Field(description=\"A list of real estate listings\")"
   ]
  },
  {
   "cell_type": "code",
   "execution_count": 76,
   "id": "2a52782b",
   "metadata": {},
   "outputs": [],
   "source": [
    "# generate parsed output\n",
    "parser = PydanticOutputParser(pydantic_object=ListingCollection)"
   ]
  },
  {
   "cell_type": "code",
   "execution_count": 77,
   "id": "021f448d",
   "metadata": {},
   "outputs": [
    {
     "name": "stdout",
     "output_type": "stream",
     "text": [
      "\n",
      "You are an expert real estate agent in California in the USA.\n",
      "\n",
      "    Generate at least 20 real estate listings. Utilize your imagination to generate listings.\n",
      "    Ensure to include real listings as well.\n",
      "    Distribute listings across the 5 California boroughs.\n",
      "    The listings must be in the JSON array of dictionaries with each item in the format as shown below:\n",
      "\n",
      "\n",
      "\n",
      "Neighborhood: Green Oaks\n",
      "Price: $800,000\n",
      "Bedrooms: 3\n",
      "Bathrooms: 2\n",
      "House Size: 2,000 sqft\n",
      "Description: Welcome to this eco-friendly oasis nestled in the heart of Green Oaks. This charming 3-bedroom, 2-bathroom home boasts energy-efficient features such as solar panels and a well-insulated structure. Natural light floods the living spaces, highlighting the beautiful hardwood floors and eco-conscious finishes. The open-concept kitchen and dining area lead to a spacious backyard with a vegetable garden, perfect for the eco-conscious family. Embrace sustainable living without compromising on style in this Green Oaks gem.\n",
      "Neighborhood Description: Green Oaks is a close-knit, environmentally-conscious community with access to organic grocery stores, community gardens, and bike paths. Take a stroll through the nearby Green Oaks Park or grab a cup of coffee at the cozy Green Bean Cafe. With easy access to public transportation and bike lanes, commuting is a breeze.\n",
      "\n",
      "The output should be formatted as a JSON instance that conforms to the JSON schema below.\n",
      "\n",
      "As an example, for the schema {\"properties\": {\"foo\": {\"title\": \"Foo\", \"description\": \"a list of strings\", \"type\": \"array\", \"items\": {\"type\": \"string\"}}}, \"required\": [\"foo\"]}\n",
      "the object {\"foo\": [\"bar\", \"baz\"]} is a well-formatted instance of the schema. The object {\"properties\": {\"foo\": [\"bar\", \"baz\"]}} is not well-formatted.\n",
      "\n",
      "Here is the output schema:\n",
      "```\n",
      "{\"description\": \"A collection of real estate listings.\\n\\nAttributes:\\n- listings: List[RealEstateListing]\", \"properties\": {\"listings\": {\"title\": \"Listings\", \"description\": \"A list of real estate listings\", \"type\": \"array\", \"items\": {\"$ref\": \"#/definitions/RealEstateListing\"}}}, \"required\": [\"listings\"], \"definitions\": {\"RealEstateListing\": {\"title\": \"RealEstateListing\", \"description\": \"A real estate listing.\\n\\nAttributes:\\n- neighborhood: str\\n- price: NonNegativeInt\\n- bedrooms: NonNegativeInt\\n- bathrooms: NonNegativeInt\\n- house_size: NonNegativeInt\\n- description: str\\n- neighborhood_description: str\", \"type\": \"object\", \"properties\": {\"neighborhood\": {\"title\": \"Neighborhood\", \"description\": \"The neighborhood where the property is located\", \"type\": \"string\"}, \"price\": {\"title\": \"Price\", \"description\": \"The price of the property in USD\", \"type\": \"integer\"}, \"bedrooms\": {\"title\": \"Bedrooms\", \"description\": \"The number of bedrooms in the property\", \"type\": \"integer\"}, \"bathrooms\": {\"title\": \"Bathrooms\", \"description\": \"The number of bathrooms in the property\", \"type\": \"integer\"}, \"house_size\": {\"title\": \"House Size\", \"description\": \"The size of the house in square feet\", \"type\": \"integer\"}, \"description\": {\"title\": \"Description\", \"description\": \"A description of the property\", \"type\": \"string\"}, \"neighborhood_description\": {\"title\": \"Neighborhood Description\", \"description\": \"A description of the neighborhood.\", \"type\": \"string\"}}, \"required\": [\"neighborhood\", \"price\", \"bedrooms\", \"bathrooms\", \"house_size\", \"description\", \"neighborhood_description\"]}}}\n",
      "```\n",
      "\n"
     ]
    }
   ],
   "source": [
    "prompt = PromptTemplate(\n",
    "    template=\"{instruction}\\n{sample}\\n{format_instructions}\\n\",\n",
    "    input_variables=[\"instruction\", \"sample\"],\n",
    "    partial_variables={\"format_instructions\": parser.get_format_instructions},\n",
    ")\n",
    "\n",
    "query = prompt.format(\n",
    "    instruction=instruction_system_prompt,\n",
    "    sample=sample,\n",
    ")\n",
    "print(query)"
   ]
  },
  {
   "cell_type": "code",
   "execution_count": 78,
   "id": "b1a8c376",
   "metadata": {},
   "outputs": [
    {
     "data": {
      "text/plain": [
       "'{\\n  \"listings\": [\\n    {\\n      \"neighborhood\": \"Green Oaks\",\\n      \"price\": 800000,\\n      \"bedrooms\": 3,\\n      \"bathrooms\": 2,\\n      \"house_size\": 2000,\\n      \"description\": \"Welcome to this eco-friendly oasis nestled in the heart of Green Oaks. This charming 3-bedroom, 2-bathroom home boasts energy-efficient features such as solar panels and a well-insulated structure. Natural light floods the living spaces, highlighting the beautiful hardwood floors and eco-conscious finishes. The open-concept kitchen and dining area lead to a spacious backyard with a vegetable garden, perfect for the eco-conscious family. Embrace sustainable living without compromising on style in this Green Oaks gem.\",\\n      \"neighborhood_description\": \"Green Oaks is a close-knit, environmentally-conscious community with access to organic grocery stores, community gardens, and bike paths. Take a stroll through the nearby Green Oaks Park or grab a cup of coffee at the cozy Green Bean Cafe. With easy access to public transportation and bike lanes, commuting is a breeze.\"\\n    },\\n    {\\n      \"neighborhood\": \"Sunnyvale\",\\n      \"price\": 1200000,\\n      \"bedrooms\": 4,\\n      \"bathrooms\": 3,\\n      \"house_size\": 2500,\\n      \"description\": \"Luxury living awaits in this stunning 4-bedroom, 3-bathroom home in the desirable neighborhood of Sunnyvale. The spacious layout features high ceilings, a gourmet kitchen, and a master suite with a walk-in closet. Enjoy the California sunshine in the beautifully landscaped backyard with a pool and outdoor kitchen. Conveniently located near top-rated schools, shopping centers, and parks, this home offers the perfect blend of comfort and convenience.\",\\n      \"neighborhood_description\": \"Sunnyvale is known for its family-friendly atmosphere, tree-lined streets, and vibrant community events. Residents enjoy easy access to hiking trails, farmers markets, and local eateries. With Silicon Valley just a short drive away, Sunnyvale offers the ideal balance of suburban tranquility and urban amenities.\"\\n    },\\n    {\\n      \"neighborhood\": \"Pacific Heights\",\\n      \"price\": 3500000,\\n      \"bedrooms\": 5,\\n      \"bathrooms\": 4,\\n      \"house_size\": 4000,\\n      \"description\": \"Experience luxury living in this exquisite 5-bedroom, 4-bathroom home in the prestigious neighborhood of Pacific Heights. The grand foyer leads to a formal living room with a fireplace, a chef\\'s kitchen with top-of-the-line appliances, and a master suite with a spa-like bathroom. The outdoor space features a landscaped garden, a patio for al fresco dining, and stunning views of the city skyline. This elegant home offers the ultimate in comfort and sophistication.\",\\n      \"neighborhood_description\": \"Pacific Heights is renowned for its upscale homes, panoramic views, and proximity to boutique shops and fine dining establishments. Enjoy leisurely walks along the historic streets lined with Victorian mansions or explore the nearby Presidio for outdoor recreation. With easy access to public transportation and major highways, Pacific Heights provides a luxurious lifestyle with unparalleled convenience.\"\\n    },\\n    {\\n      \"neighborhood\": \"Venice Beach\",\\n      \"price\": 2000000,\\n      \"bedrooms\": 3,\\n      \"bathrooms\": 2,\\n      \"house_size\": 1800,\\n      \"description\": \"Live the beach lifestyle in this charming 3-bedroom, 2-bathroom home just steps away from the iconic Venice Beach boardwalk. The open floor plan features a gourmet kitchen, a cozy fireplace, and a private rooftop deck with ocean views. Embrace the outdoor living with a landscaped backyard, perfect for entertaining guests or relaxing in the California sun. Experience the best of coastal living in this Venice Beach retreat.\",\\n      \"neighborhood_description\": \"Venice Beach is a vibrant community known for its eclectic mix of artists, musicians, and surfers. Explore the local art galleries, trendy boutiques, and world-class restaurants along Abbot Kinney Boulevard. With easy access to the beach, bike paths, and the Venice Canals, residents enjoy a laid-back lifestyle with a touch of bohemian charm.\"\\n    },\\n    {\\n      \"neighborhood\": \"Nob Hill\",\\n      \"price\": 1500000,\\n      \"bedrooms\": 2,\\n      \"bathrooms\": 2,\\n      \"house_size\": 1600,\\n      \"description\": \"Discover urban living at its finest in this modern 2-bedroom, 2-bathroom condo in the prestigious neighborhood of Nob Hill. The sleek design features floor-to-ceiling windows, a gourmet kitchen with stainless steel appliances, and a private balcony with city views. Residents have access to luxury amenities including a fitness center, concierge services, and a rooftop terrace. Experience the sophistication and convenience of city living in this Nob Hill residence.\",\\n      \"neighborhood_description\": \"Nob Hill is a historic neighborhood known for its upscale hotels, fine dining establishments, and iconic cable cars. Explore the nearby Huntington Park, visit the Grace Cathedral, or indulge in shopping at the boutiques along Polk Street. With easy access to downtown San Francisco and the Financial District, Nob Hill offers a cosmopolitan lifestyle with a touch of old-world charm.\"\\n    }\\n  ]\\n}'"
      ]
     },
     "execution_count": 78,
     "metadata": {},
     "output_type": "execute_result"
    }
   ],
   "source": [
    "output = llm(query)\n",
    "\n",
    "output"
   ]
  },
  {
   "cell_type": "code",
   "execution_count": 66,
   "id": "cae446dd",
   "metadata": {},
   "outputs": [
    {
     "data": {
      "text/plain": [
       "{'listings': [{'neighborhood': 'Green Oaks',\n",
       "   'price': 800000,\n",
       "   'bedrooms': 3,\n",
       "   'bathrooms': 2,\n",
       "   'house_size': 2000,\n",
       "   'description': 'Welcome to this eco-friendly oasis nestled in the heart of Green Oaks. This charming 3-bedroom, 2-bathroom home boasts energy-efficient features such as solar panels and a well-insulated structure. Natural light floods the living spaces, highlighting the beautiful hardwood floors and eco-conscious finishes. The open-concept kitchen and dining area lead to a spacious backyard with a vegetable garden, perfect for the eco-conscious family. Embrace sustainable living without compromising on style in this Green Oaks gem.',\n",
       "   'neighborhood_description': 'Green Oaks is a close-knit, environmentally-conscious community with access to organic grocery stores, community gardens, and bike paths. Take a stroll through the nearby Green Oaks Park or grab a cup of coffee at the cozy Green Bean Cafe. With easy access to public transportation and bike lanes, commuting is a breeze.'},\n",
       "  {'neighborhood': 'Sunnyvale',\n",
       "   'price': 1200000,\n",
       "   'bedrooms': 4,\n",
       "   'bathrooms': 3,\n",
       "   'house_size': 2500,\n",
       "   'description': 'Luxury living awaits in this stunning 4-bedroom, 3-bathroom home in the desirable neighborhood of Sunnyvale. The spacious layout features high ceilings, a gourmet kitchen, and a master suite with a walk-in closet. Enjoy the California sunshine in the beautifully landscaped backyard with a pool and outdoor kitchen. Conveniently located near top-rated schools, shopping centers, and parks, this home offers the perfect blend of comfort and convenience.',\n",
       "   'neighborhood_description': 'Sunnyvale is known for its family-friendly atmosphere, excellent schools, and vibrant community events. Residents enjoy easy access to Silicon Valley tech companies, recreational facilities, and a variety of dining options. Explore the nearby hiking trails or take a short drive to the beach for a weekend getaway.'},\n",
       "  {'neighborhood': 'Hollywood Hills',\n",
       "   'price': 3500000,\n",
       "   'bedrooms': 5,\n",
       "   'bathrooms': 4,\n",
       "   'house_size': 4000,\n",
       "   'description': 'Experience luxury living in this modern 5-bedroom, 4-bathroom home perched in the prestigious Hollywood Hills. The sleek design features floor-to-ceiling windows, a gourmet kitchen, and a private rooftop deck with panoramic views of the city. Entertain guests in the spacious living areas or relax in the tranquil master suite with a spa-like bathroom. This architectural masterpiece offers the ultimate in comfort and style.',\n",
       "   'neighborhood_description': 'Hollywood Hills is a celebrity hotspot known for its exclusive homes, upscale shopping, and trendy restaurants. Enjoy easy access to iconic landmarks like the Hollywood Sign and Griffith Observatory, as well as world-class entertainment venues. Indulge in the glamorous lifestyle of Hollywood Hills while being just minutes away from the bustling city below.'},\n",
       "  {'neighborhood': 'Pacific Heights',\n",
       "   'price': 5000000,\n",
       "   'bedrooms': 6,\n",
       "   'bathrooms': 5,\n",
       "   'house_size': 6000,\n",
       "   'description': \"Live in luxury in this grand 6-bedroom, 5-bathroom home located in the prestigious neighborhood of Pacific Heights. The elegant interior features high-end finishes, a chef's kitchen, and a private elevator. Relax in the expansive backyard with a pool, spa, and outdoor kitchen, perfect for entertaining guests. With stunning views of the Golden Gate Bridge and easy access to top-rated schools and upscale shopping, this home offers the epitome of upscale living.\",\n",
       "   'neighborhood_description': 'Pacific Heights is a sought-after neighborhood known for its historic mansions, tree-lined streets, and panoramic views of the San Francisco Bay. Residents enjoy proximity to iconic landmarks like Alamo Square and the Presidio, as well as a variety of cultural attractions and gourmet restaurants. Experience the best of San Francisco living in the prestigious enclave of Pacific Heights.'},\n",
       "  {'neighborhood': 'La Jolla',\n",
       "   'price': 3000000,\n",
       "   'bedrooms': 4,\n",
       "   'bathrooms': 3,\n",
       "   'house_size': 3500,\n",
       "   'description': 'Escape to paradise in this luxurious 4-bedroom, 3-bathroom home perched on the cliffs of La Jolla. The open floor plan features vaulted ceilings, a gourmet kitchen, and a master suite with ocean views. Step outside to the expansive deck overlooking the Pacific Ocean, perfect for watching the sunset or hosting al fresco dinners. With easy access to world-class beaches, golf courses, and upscale shopping, this coastal retreat offers the ultimate in California living.',\n",
       "   'neighborhood_description': 'La Jolla is a picturesque seaside community known for its pristine beaches, upscale boutiques, and fine dining establishments. Residents enjoy a laid-back lifestyle with access to outdoor activities like surfing, snorkeling, and hiking. Explore the nearby La Jolla Cove or take a short drive to downtown San Diego for a night on the town.'}]}"
      ]
     },
     "execution_count": 66,
     "metadata": {},
     "output_type": "execute_result"
    }
   ],
   "source": [
    "parsed_output = json.loads(output)\n",
    "parsed_output"
   ]
  },
  {
   "cell_type": "markdown",
   "id": "fefc09a0",
   "metadata": {},
   "source": [
    "# Storing Listings in a Vector Database"
   ]
  },
  {
   "cell_type": "code",
   "execution_count": 121,
   "id": "bdb0480e",
   "metadata": {
    "scrolled": false
   },
   "outputs": [
    {
     "name": "stdout",
     "output_type": "stream",
     "text": [
      "Split 5 documents into 11 chunks.\n",
      "Welcome to this eco-friendly oasis nestled in the heart of Green Oaks. This charming 3-bedroom, 2-bathroom home boasts energy-efficient features such as solar panels and a well-insulated structure. Natural light floods the living spaces, highlighting the beautiful hardwood floors and eco-conscious\n",
      "{'id': '0', 'start_index': 0}\n",
      "Saved 11 chunks to chroma.\n"
     ]
    }
   ],
   "source": [
    "\n",
    "embedding_function = OpenAIEmbeddings()\n",
    "\n",
    "documents = []\n",
    "for index, listing in enumerate(parsed_output[\"listings\"]):\n",
    "    documents.append(\n",
    "        Document(\n",
    "            page_content=listing[\"description\"],\n",
    "            metadata={\"id\": str(index)}\n",
    "        )\n",
    "    )\n",
    "\n",
    "text_splitter = RecursiveCharacterTextSplitter(\n",
    "    chunk_size=300,\n",
    "    chunk_overlap=100,\n",
    "    length_function=len,\n",
    "    add_start_index=True,\n",
    ")\n",
    "chunks = text_splitter.split_documents(documents)\n",
    "print(f\"Split {len(documents)} documents into {len(chunks)} chunks.\")\n",
    "\n",
    "if chunks:\n",
    "    sample = chunks[0]\n",
    "    print(sample.page_content)\n",
    "    print(sample.metadata)\n",
    "\n",
    "if os.path.exists(CHROMA_PATH):\n",
    "    shutil.rmtree(CHROMA_PATH)\n",
    "\n",
    "embedding_function = OpenAIEmbeddings()\n",
    "\n",
    "db = Chroma.from_documents(\n",
    "    chunks, embedding_function, persist_directory=CHROMA_PATH\n",
    ")\n",
    "db.persist()\n",
    "print(f\"Saved {len(chunks)} chunks to {CHROMA_PATH}.\")\n"
   ]
  },
  {
   "cell_type": "markdown",
   "id": "da4ca859",
   "metadata": {},
   "source": [
    "# Storing Listings in a Vector Database"
   ]
  },
  {
   "cell_type": "code",
   "execution_count": 122,
   "id": "53a29f31",
   "metadata": {},
   "outputs": [],
   "source": [
    "questions = [\n",
    "    \"How big do you want your house to be?\",\n",
    "    \"What are 3 most important things for you in choosing this property?\",\n",
    "    \"Which amenities would you like?\",\n",
    "    \"Which transportation options are important to you?\",\n",
    "    \"How urban do you want your neighborhood to be?\",\n",
    "]\n",
    "\n",
    "answers = [\n",
    "    \"A comfortable three-bedroom house with a spacious kitchen and a cozy living room.\",\n",
    "    \"A quiet neighborhood, good local schools, and convenient shopping options.\",\n",
    "    \"A backyard for gardening, a two-car garage, and a modern, energy-efficient heating system.\",\n",
    "    \"Easy access to a reliable bus line, proximity to a major highway, and bike-friendly roads.\",\n",
    "    \"A balance between suburban tranquility and access to urban amenities like restaurants and theaters.\"\n",
    "]\n",
    "\n",
    "\n",
    "\n",
    "preference_text = \" \".join(answers)"
   ]
  },
  {
   "cell_type": "code",
   "execution_count": 123,
   "id": "af0ea79a",
   "metadata": {},
   "outputs": [],
   "source": [
    "retrieved_docs = db.similarity_search(preference_text, k=3)\n"
   ]
  },
  {
   "cell_type": "code",
   "execution_count": 124,
   "id": "ade40e5c",
   "metadata": {},
   "outputs": [
    {
     "data": {
      "text/plain": [
       "[Document(page_content='closet. Enjoy the California sunshine in the beautifully landscaped backyard with a pool and outdoor kitchen. Conveniently located near top-rated schools, shopping centers, and parks, this home offers the perfect blend of comfort and convenience.', metadata={'id': '1', 'start_index': 206}),\n",
       " Document(page_content='Luxury living awaits in this stunning 4-bedroom, 3-bathroom home in the desirable neighborhood of Sunnyvale. The spacious layout features high ceilings, a gourmet kitchen, and a master suite with a walk-in closet. Enjoy the California sunshine in the beautifully landscaped backyard with a pool and', metadata={'id': '1', 'start_index': 0}),\n",
       " Document(page_content='elevator. Relax in the expansive backyard with a pool, spa, and outdoor kitchen, perfect for entertaining guests. With stunning views of the Golden Gate Bridge and easy access to top-rated schools and upscale shopping, this home offers the epitome of upscale living.', metadata={'id': '3', 'start_index': 197})]"
      ]
     },
     "execution_count": 124,
     "metadata": {},
     "output_type": "execute_result"
    }
   ],
   "source": [
    "retrieved_docs"
   ]
  },
  {
   "cell_type": "markdown",
   "id": "18e9139d",
   "metadata": {},
   "source": [
    "# Searching Based on Preferences"
   ]
  },
  {
   "cell_type": "code",
   "execution_count": 132,
   "id": "309840d9",
   "metadata": {},
   "outputs": [],
   "source": [
    "buyer_preferences = \"Prefers natural lighting, modern kitchen, and family-friendly neighborhood.\"\n",
    "\n",
    "prompt_text = \"A comfortable 4-bedroom house with a spacious kitchen and a beautiful living room.\" \n",
    "\n",
    "PROMPT_TEMPLATE =\\\n",
    "\"\"\"\n",
    "You are a real estate agent. Your task is to personalize the following property listing to better match the buyer's preferences.\n",
    "\n",
    "Buyer Preferences:\n",
    "{preferences}\n",
    "\n",
    "Original Listing:\n",
    "{listing}\n",
    "\n",
    "Personalized Description:\n",
    "\"\"\"\n"
   ]
  },
  {
   "cell_type": "markdown",
   "id": "4a2d74bb",
   "metadata": {},
   "source": [
    "# Personalizing Listing Descriptions"
   ]
  },
  {
   "cell_type": "code",
   "execution_count": 128,
   "id": "2237acef",
   "metadata": {},
   "outputs": [],
   "source": [
    "def predict_response(prompt_text, PROMPT_TEMPLATE, preferences_text):\n",
    "    embedding_function = OpenAIEmbeddings()\n",
    "    db = Chroma(persist_directory=CHROMA_PATH, embedding_function=embedding_function)\n",
    "\n",
    "    results = db.similarity_search_with_relevance_scores(prompt_text, k=3)\n",
    "    \n",
    "    if len(results) == 0 or results[0][1] < 0.7:\n",
    "        print(\"Unable to find matching results.\")\n",
    "        return\n",
    "\n",
    "    context_text = \"\\n\\n---\\n\\n\".join([doc.page_content for doc, _ in results])\n",
    "    \n",
    "    prompt_template = ChatPromptTemplate.from_template(PROMPT_TEMPLATE)\n",
    "    prompt = prompt_template.format(\n",
    "        preferences=preferences_text,\n",
    "        listing=context_text\n",
    "    )\n",
    "\n",
    "    print(f\"\\nGenerated Prompt:\\n{prompt}\")\n",
    "\n",
    "    model = ChatOpenAI()\n",
    "    response_text = model.predict(prompt)\n",
    "\n",
    "    sources = [doc.metadata.get(\"id\", None) for doc, _ in results]\n",
    "    formatted_response = f\"\\nResponse:\\n{response_text}\\nSources: {sources}\"\n",
    "    print(formatted_response)\n"
   ]
  },
  {
   "cell_type": "code",
   "execution_count": 133,
   "id": "da040423",
   "metadata": {
    "scrolled": false
   },
   "outputs": [
    {
     "name": "stdout",
     "output_type": "stream",
     "text": [
      "\n",
      "Generated Prompt:\n",
      "Human: \n",
      "You are a real estate agent. Your task is to personalize the following property listing to better match the buyer's preferences.\n",
      "\n",
      "Buyer Preferences:\n",
      "Prefers natural lighting, modern kitchen, and family-friendly neighborhood.\n",
      "\n",
      "Original Listing:\n",
      "Luxury living awaits in this stunning 4-bedroom, 3-bathroom home in the desirable neighborhood of Sunnyvale. The spacious layout features high ceilings, a gourmet kitchen, and a master suite with a walk-in closet. Enjoy the California sunshine in the beautifully landscaped backyard with a pool and\n",
      "\n",
      "---\n",
      "\n",
      "Experience luxury living in this modern 5-bedroom, 4-bathroom home perched in the prestigious Hollywood Hills. The sleek design features floor-to-ceiling windows, a gourmet kitchen, and a private rooftop deck with panoramic views of the city. Entertain guests in the spacious living areas or relax in\n",
      "\n",
      "---\n",
      "\n",
      "Escape to paradise in this luxurious 4-bedroom, 3-bathroom home perched on the cliffs of La Jolla. The open floor plan features vaulted ceilings, a gourmet kitchen, and a master suite with ocean views. Step outside to the expansive deck overlooking the Pacific Ocean, perfect for watching the sunset\n",
      "\n",
      "Personalized Description:\n",
      "\n",
      "\n",
      "Response:\n",
      "Discover your dream home in this stunning 4-bedroom, 3-bathroom property located in the family-friendly neighborhood of Sunnyvale. This home boasts an abundance of natural lighting, showcasing the high ceilings and spacious layout. The modern kitchen is perfect for preparing meals for your loved ones, while the master suite offers a walk-in closet for all your storage needs. Step outside to the beautifully landscaped backyard, ideal for family gatherings and enjoying the California sunshine. Don't miss out on this perfect blend of luxury and comfort in a welcoming community.\n",
      "Sources: ['1', '2', '4']\n"
     ]
    }
   ],
   "source": [
    "predict_response(prompt_text, PROMPT_TEMPLATE, buyer_preferences)\n"
   ]
  },
  {
   "cell_type": "code",
   "execution_count": 136,
   "id": "cc78e75a",
   "metadata": {},
   "outputs": [],
   "source": [
    "AUGMENT_PROMPT_TEMPLATE = \"\"\"\n",
    "You're a real estate expert helping personalize property listings to match a buyer's unique needs.\n",
    "\n",
    "Use the following context to guide your response:\n",
    "\n",
    "{context}\n",
    "\n",
    "---\n",
    "\n",
    "Now, craft a compelling and customized description that directly responds to the question below. Highlight features of the property that align with the buyer's preferences, and make your response engaging, thoughtful, and persuasive.\n",
    "\n",
    "Question: {question}\n",
    "\"\"\"\n"
   ]
  },
  {
   "cell_type": "code",
   "execution_count": 138,
   "id": "6722bad9",
   "metadata": {},
   "outputs": [],
   "source": [
    "def predict_response(prompt_text, prompt_template_str, preferences_text):\n",
    "    embedding_function = OpenAIEmbeddings()\n",
    "    db = Chroma(persist_directory=CHROMA_PATH, embedding_function=embedding_function)\n",
    "\n",
    "    results = db.similarity_search_with_relevance_scores(prompt_text, k=3)\n",
    "\n",
    "    if len(results) == 0 or results[0][1] < 0.7:\n",
    "        print(\"Unable to find matching results.\")\n",
    "        return\n",
    "\n",
    "    context_text = \"\\n\\n---\\n\\n\".join([doc.page_content for doc, _ in results])\n",
    "\n",
    "    # Combine preferences with question if needed\n",
    "    full_question = f\"{prompt_text} Buyer preferences: {preferences_text}\"\n",
    "\n",
    "    # Load the prompt template\n",
    "    prompt_template = ChatPromptTemplate.from_template(prompt_template_str)\n",
    "    prompt = prompt_template.format(context=context_text, question=full_question)\n",
    "\n",
    "    print(\"\\nGenerated Prompt:\")\n",
    "    print(prompt)\n",
    "\n",
    "    model = ChatOpenAI()\n",
    "    response = model.predict(prompt)\n",
    "\n",
    "    sources = [doc.metadata.get(\"id\", None) for doc, _ in results]\n",
    "    print(f\"\\nResponse:\\n{response}\\nSources: {sources}\")\n"
   ]
  },
  {
   "cell_type": "code",
   "execution_count": 139,
   "id": "62091442",
   "metadata": {},
   "outputs": [
    {
     "name": "stdout",
     "output_type": "stream",
     "text": [
      "\n",
      "Generated Prompt:\n",
      "Human: \n",
      "You're a real estate expert helping personalize property listings to match a buyer's unique needs.\n",
      "\n",
      "Use the following context to guide your response:\n",
      "\n",
      "Welcome to this eco-friendly oasis nestled in the heart of Green Oaks. This charming 3-bedroom, 2-bathroom home boasts energy-efficient features such as solar panels and a well-insulated structure. Natural light floods the living spaces, highlighting the beautiful hardwood floors and eco-conscious\n",
      "\n",
      "---\n",
      "\n",
      "closet. Enjoy the California sunshine in the beautifully landscaped backyard with a pool and outdoor kitchen. Conveniently located near top-rated schools, shopping centers, and parks, this home offers the perfect blend of comfort and convenience.\n",
      "\n",
      "---\n",
      "\n",
      "for the eco-conscious family. Embrace sustainable living without compromising on style in this Green Oaks gem.\n",
      "\n",
      "---\n",
      "\n",
      "Now, craft a compelling and customized description that directly responds to the question below. Highlight features of the property that align with the buyer's preferences, and make your response engaging, thoughtful, and persuasive.\n",
      "\n",
      "Question: Looking for a cozy home with natural light and a quiet neighborhood. Buyer preferences: Prefers natural lighting, modern kitchen, and family-friendly neighborhood.\n",
      "\n",
      "\n",
      "Response:\n",
      "Welcome to this eco-friendly oasis in Green Oaks, the perfect blend of sustainability and style for your family. This charming 3-bedroom, 2-bathroom home is flooded with natural light, showcasing the beautiful hardwood floors and eco-conscious closet. The modern kitchen is equipped with energy-efficient appliances and opens up to the living spaces, perfect for family gatherings. \n",
      "\n",
      "Located in a quiet and family-friendly neighborhood, this home also features an outdoor kitchen and pool, ideal for enjoying the California sunshine. With solar panels and a well-insulated structure, you can embrace sustainable living without compromising on comfort. Conveniently situated near top-rated schools, shopping centers, and parks, this home truly offers the best of both worlds for your eco-conscious family. Don't miss out on this Green Oaks gem that checks all your boxes for a cozy and modern home with natural light and a peaceful setting.\n",
      "Sources: ['0', '1', '0']\n"
     ]
    }
   ],
   "source": [
    "prompt_text = \"Looking for a cozy home with natural light and a quiet neighborhood.\"\n",
    "preferences = \"Loves eco-friendly design, prefers open floor plan, dislikes modern minimalist interiors.\"\n",
    "predict_response(prompt_text, AUGMENT_PROMPT_TEMPLATE, buyer_preferences)\n"
   ]
  },
  {
   "cell_type": "code",
   "execution_count": 142,
   "id": "b9390a25",
   "metadata": {},
   "outputs": [
    {
     "name": "stdout",
     "output_type": "stream",
     "text": [
      "\n",
      "Generated Prompt:\n",
      "Human: \n",
      "You're a real estate expert helping personalize property listings to match a buyer's unique needs.\n",
      "\n",
      "Use the following context to guide your response:\n",
      "\n",
      "closet. Enjoy the California sunshine in the beautifully landscaped backyard with a pool and outdoor kitchen. Conveniently located near top-rated schools, shopping centers, and parks, this home offers the perfect blend of comfort and convenience.\n",
      "\n",
      "---\n",
      "\n",
      "Luxury living awaits in this stunning 4-bedroom, 3-bathroom home in the desirable neighborhood of Sunnyvale. The spacious layout features high ceilings, a gourmet kitchen, and a master suite with a walk-in closet. Enjoy the California sunshine in the beautifully landscaped backyard with a pool and\n",
      "\n",
      "---\n",
      "\n",
      "Escape to paradise in this luxurious 4-bedroom, 3-bathroom home perched on the cliffs of La Jolla. The open floor plan features vaulted ceilings, a gourmet kitchen, and a master suite with ocean views. Step outside to the expansive deck overlooking the Pacific Ocean, perfect for watching the sunset\n",
      "\n",
      "---\n",
      "\n",
      "Now, craft a compelling and customized description that directly responds to the question below. Highlight features of the property that align with the buyer's preferences, and make your response engaging, thoughtful, and persuasive.\n",
      "\n",
      "Question: Find me a 3-bedroom house in california under $500,000 with a pool Buyer preferences: Prefers natural lighting, modern kitchen, and family-friendly neighborhood.\n",
      "\n",
      "\n",
      "Response:\n",
      "Luxury living meets affordability in this charming 3-bedroom home located in a family-friendly neighborhood in sunny California. Step inside to find an abundance of natural lighting illuminating the modern kitchen, perfect for whipping up delicious meals for the family. The spacious layout includes a master suite with a walk-in closet and two additional bedrooms, providing plenty of space for everyone. Step outside to the beautifully landscaped backyard with a refreshing pool, ideal for those hot summer days. Conveniently located near top-rated schools, shopping centers, and parks, this home offers the perfect blend of comfort and convenience. Don't miss out on this incredible opportunity to own a piece of paradise under $500,000.\n",
      "Sources: ['1', '1', '4']\n"
     ]
    }
   ],
   "source": [
    "predict_response(\"Find me a 3-bedroom house in california under $500,000 with a pool\", AUGMENT_PROMPT_TEMPLATE, buyer_preferences)\n"
   ]
  },
  {
   "cell_type": "code",
   "execution_count": null,
   "id": "aeab3a92",
   "metadata": {},
   "outputs": [],
   "source": []
  }
 ],
 "metadata": {
  "kernelspec": {
   "display_name": "Python 3 (ipykernel)",
   "language": "python",
   "name": "python3"
  },
  "language_info": {
   "codemirror_mode": {
    "name": "ipython",
    "version": 3
   },
   "file_extension": ".py",
   "mimetype": "text/x-python",
   "name": "python",
   "nbconvert_exporter": "python",
   "pygments_lexer": "ipython3",
   "version": "3.10.11"
  }
 },
 "nbformat": 4,
 "nbformat_minor": 5
}
